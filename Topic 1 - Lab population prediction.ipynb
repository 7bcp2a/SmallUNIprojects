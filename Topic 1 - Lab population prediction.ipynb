{
 "cells": [
  {
   "cell_type": "markdown",
   "metadata": {},
   "source": [
    "First you should try to import a module in Python. \n",
    "https://docs.python.org/3/tutorial/modules.html\n",
    "Make sure you run your code cell once you have written the code. Generally it is good practice to import all modules before you start coding so that you don't run into dependency problems. Don't forget to install your dependencies \n",
    "via pip!"
   ]
  },
  {
   "cell_type": "code",
   "execution_count": 1,
   "metadata": {},
   "outputs": [],
   "source": [
    "# you can remove the '#' here to uncomment the code and run a code cell with your import statements.\n",
    "# Can you import the pandas module?\n",
    "import pandas as pd"
   ]
  },
  {
   "cell_type": "code",
   "execution_count": 2,
   "metadata": {
    "scrolled": true
   },
   "outputs": [
    {
     "name": "stdout",
     "output_type": "stream",
     "text": [
      "Requirement already satisfied: numpy in c:\\users\\nilph\\anaconda3\\lib\\site-packages (1.21.5)\n"
     ]
    }
   ],
   "source": [
    "# We do not have to jump out to a terminal instance to do this. A little shortcut is as follows.\n",
    "import sys\n",
    "!{sys.executable} -m pip install numpy"
   ]
  },
  {
   "cell_type": "markdown",
   "metadata": {},
   "source": [
    "Your next job is to try to write a program! Here's the brief.\n",
    "\n",
    "Write a program that calculates the size of the world's population at the start of 2022.\n",
    "\n",
    "The population at the start of 2018 was 7.6 billion. The growth rate at the time was 1.09% per year.  \n",
    "\n",
    "Assume a fixed population growth rate over the time period.\n",
    "Put the starting population and growth rate into variables.\n",
    "Carry out some mathematical operations to compute the population at the start of 2022.\n",
    "Print out the result.\n",
    "Challenge exercise: can you convert your code into a function that takes as its inputs the population growth rate, the population in 2018 and the year we would like to know the population in. e.g.:\n",
    "\n",
    "def get_population(growth_rate, pop_in_2018, target_year)\n",
    "\n",
    "It should return the population in target_year."
   ]
  },
  {
   "cell_type": "markdown",
   "metadata": {},
   "source": [
    "Which variable type would be good to store a numeric value in Python? One of the basic numeric types should be \n",
    "fine for this exercise. \n",
    "\n",
    "Numeric Types — int, float, complex\n",
    "https://docs.python.org/3/library/stdtypes.html"
   ]
  },
  {
   "cell_type": "code",
   "execution_count": 3,
   "metadata": {},
   "outputs": [
    {
     "name": "stdout",
     "output_type": "stream",
     "text": [
      "7682840000 7766582956 7851238710 7936817212\n"
     ]
    }
   ],
   "source": [
    "# Hint: Complex might be too complex. Can we have a fraction of a person?\n",
    "# We need to have separate variables for both population and growth rate. These will (probably) be different types.\n",
    "# The population at the start of 2018 was 7.6 billion. The growth rate at the time was 1.09% per year.  \n",
    "pop_in_2018 = 7600000000\n",
    "growth_rate = 0.0109\n",
    "\n",
    "pop_in_2019 = round(pop_in_2018 + pop_in_2018*growth_rate)\n",
    "pop_in_2020 = round(pop_in_2019 + pop_in_2019*growth_rate)\n",
    "pop_in_2021 = round(pop_in_2020 + pop_in_2020*growth_rate)\n",
    "pop_in_2022 = round(pop_in_2021 + pop_in_2021*growth_rate)\n",
    "\n",
    "print(pop_in_2019, pop_in_2020, pop_in_2021, pop_in_2022)"
   ]
  },
  {
   "cell_type": "code",
   "execution_count": 4,
   "metadata": {},
   "outputs": [
    {
     "data": {
      "text/plain": [
       "7936817212"
      ]
     },
     "execution_count": 4,
     "metadata": {},
     "output_type": "execute_result"
    }
   ],
   "source": [
    "# To do some prediction we need to combine these things. We need to subtract the starting year from the current year\n",
    "# and then increase the population according to rate\n",
    "\n",
    "# If you are a bit stuck you can look at Python operators to see some examples\n",
    "# https://www.w3schools.com/python/python_operators.asp\n",
    "\n",
    "# My predictive function\n",
    "def get_population(growth_rate, pop2018, years):\n",
    "    for i in range(years):\n",
    "        calc = pop2018 + pop2018*growth_rate\n",
    "        pop2018 = calc\n",
    "    return round(calc)\n",
    "\n",
    "# if I use years = 4 I will get population in 2022\n",
    "years = 4\n",
    "\n",
    "get_population(growth_rate, pop_in_2018, years)"
   ]
  },
  {
   "cell_type": "markdown",
   "metadata": {},
   "source": [
    "Now that we have our prediction it's time to do the clever bit. We might want to reuse this prediction under different circumstances. Your job is to find a way to make a reusable object in Python that is capable of taking any input for the parameters defined. The documentation on this is fairly dense\n",
    "\n",
    "https://docs.python.org/3/tutorial/controlflow.html\n",
    "\n",
    "So you might want to use a simpler guide e.g.\n",
    "https://www.w3schools.com/python/python_functions.asp"
   ]
  },
  {
   "cell_type": "code",
   "execution_count": 5,
   "metadata": {},
   "outputs": [
    {
     "data": {
      "text/html": [
       "<div>\n",
       "<style scoped>\n",
       "    .dataframe tbody tr th:only-of-type {\n",
       "        vertical-align: middle;\n",
       "    }\n",
       "\n",
       "    .dataframe tbody tr th {\n",
       "        vertical-align: top;\n",
       "    }\n",
       "\n",
       "    .dataframe thead th {\n",
       "        text-align: right;\n",
       "    }\n",
       "</style>\n",
       "<table border=\"1\" class=\"dataframe\">\n",
       "  <thead>\n",
       "    <tr style=\"text-align: right;\">\n",
       "      <th></th>\n",
       "      <th>year</th>\n",
       "      <th>population</th>\n",
       "    </tr>\n",
       "  </thead>\n",
       "  <tbody>\n",
       "    <tr>\n",
       "      <th>0</th>\n",
       "      <td>2018</td>\n",
       "      <td>7600000000</td>\n",
       "    </tr>\n",
       "    <tr>\n",
       "      <th>1</th>\n",
       "      <td>2019</td>\n",
       "      <td>7682840000</td>\n",
       "    </tr>\n",
       "    <tr>\n",
       "      <th>2</th>\n",
       "      <td>2020</td>\n",
       "      <td>7766582956</td>\n",
       "    </tr>\n",
       "    <tr>\n",
       "      <th>3</th>\n",
       "      <td>2021</td>\n",
       "      <td>7851238710</td>\n",
       "    </tr>\n",
       "    <tr>\n",
       "      <th>4</th>\n",
       "      <td>2022</td>\n",
       "      <td>7936817212</td>\n",
       "    </tr>\n",
       "  </tbody>\n",
       "</table>\n",
       "</div>"
      ],
      "text/plain": [
       "   year  population\n",
       "0  2018  7600000000\n",
       "1  2019  7682840000\n",
       "2  2020  7766582956\n",
       "3  2021  7851238710\n",
       "4  2022  7936817212"
      ]
     },
     "execution_count": 5,
     "metadata": {},
     "output_type": "execute_result"
    }
   ],
   "source": [
    "# My predictive function goes here\n",
    "\n",
    "# Advanced exercise: if you are already a Python pro and fancy a challenge, perhaps you could use a predictive\n",
    "# model to compute this? A linear regression model might be a good place to start. Perhaps you could share your \n",
    "# model with us on the forums and give us a sense of how accurate it was?\n",
    "\n",
    "# Here is my attempt, could be wrong, but at least I tried \n",
    "pop=[7600000000, 7682840000, 7766582956, 7851238710, 7936817212]\n",
    "year=[2018, 2019, 2020, 2021, 2022]\n",
    "zipped = list(zip(year, pop))\n",
    "\n",
    "# make a dataframe fom lists\n",
    "df = pd.DataFrame(zipped, columns=['year','population'])\n",
    "df"
   ]
  },
  {
   "cell_type": "code",
   "execution_count": 6,
   "metadata": {},
   "outputs": [
    {
     "name": "stdout",
     "output_type": "stream",
     "text": [
      "Requirement already satisfied: matplotlib in c:\\users\\nilph\\anaconda3\\lib\\site-packages (3.5.2)\n",
      "Requirement already satisfied: fonttools>=4.22.0 in c:\\users\\nilph\\anaconda3\\lib\\site-packages (from matplotlib) (4.25.0)\n",
      "Requirement already satisfied: packaging>=20.0 in c:\\users\\nilph\\anaconda3\\lib\\site-packages (from matplotlib) (21.3)\n",
      "Requirement already satisfied: pyparsing>=2.2.1 in c:\\users\\nilph\\anaconda3\\lib\\site-packages (from matplotlib) (3.0.9)\n",
      "Requirement already satisfied: numpy>=1.17 in c:\\users\\nilph\\anaconda3\\lib\\site-packages (from matplotlib) (1.21.5)\n",
      "Requirement already satisfied: python-dateutil>=2.7 in c:\\users\\nilph\\anaconda3\\lib\\site-packages (from matplotlib) (2.8.2)\n",
      "Requirement already satisfied: pillow>=6.2.0 in c:\\users\\nilph\\anaconda3\\lib\\site-packages (from matplotlib) (9.2.0)\n",
      "Requirement already satisfied: kiwisolver>=1.0.1 in c:\\users\\nilph\\anaconda3\\lib\\site-packages (from matplotlib) (1.4.2)\n",
      "Requirement already satisfied: cycler>=0.10 in c:\\users\\nilph\\anaconda3\\lib\\site-packages (from matplotlib) (0.11.0)\n",
      "Requirement already satisfied: six>=1.5 in c:\\users\\nilph\\anaconda3\\lib\\site-packages (from python-dateutil>=2.7->matplotlib) (1.16.0)\n",
      "Requirement already satisfied: scikit-learn in c:\\users\\nilph\\anaconda3\\lib\\site-packages (1.0.2)\n",
      "Requirement already satisfied: numpy>=1.14.6 in c:\\users\\nilph\\anaconda3\\lib\\site-packages (from scikit-learn) (1.21.5)\n",
      "Requirement already satisfied: threadpoolctl>=2.0.0 in c:\\users\\nilph\\anaconda3\\lib\\site-packages (from scikit-learn) (2.2.0)\n",
      "Requirement already satisfied: scipy>=1.1.0 in c:\\users\\nilph\\anaconda3\\lib\\site-packages (from scikit-learn) (1.9.1)\n",
      "Requirement already satisfied: joblib>=0.11 in c:\\users\\nilph\\anaconda3\\lib\\site-packages (from scikit-learn) (1.1.0)\n"
     ]
    },
    {
     "data": {
      "image/png": "[encoded data removed]",
      "text/plain": [
       "<Figure size 640x480 with 1 Axes>"
      ]
     },
     "metadata": {},
     "output_type": "display_data"
    }
   ],
   "source": [
    "import sys\n",
    "!{sys.executable} -m pip install matplotlib\n",
    "!{sys.executable} -m pip install scikit-learn\n",
    "\n",
    "import matplotlib.pyplot as plt\n",
    "#import pylab as pl\n",
    "import numpy as np\n",
    "%matplotlib inline\n",
    "\n",
    "plt.scatter(df.year, df.population,  color='blue')\n",
    "plt.xlabel(\"Year\")\n",
    "plt.ylabel(\"Population\")\n",
    "plt.show()"
   ]
  },
  {
   "cell_type": "code",
   "execution_count": 7,
   "metadata": {},
   "outputs": [],
   "source": [
    "# split tiny dataset\n",
    "msk = np.random.rand(len(df)) <= 0.7\n",
    "train = df[msk]\n",
    "test = df[~msk]"
   ]
  },
  {
   "cell_type": "code",
   "execution_count": 8,
   "metadata": {},
   "outputs": [],
   "source": [
    "# training data\n",
    "train_x = train[[\"year\"]]\n",
    "train_y = np.asanyarray(train[['population']])"
   ]
  },
  {
   "cell_type": "code",
   "execution_count": 9,
   "metadata": {},
   "outputs": [
    {
     "name": "stdout",
     "output_type": "stream",
     "text": [
      "Coefficients:  [[84203313.40000002]]\n",
      "Intercept:  [-1.62322969e+11]\n"
     ]
    },
    {
     "data": {
      "text/plain": [
       "[<matplotlib.lines.Line2D at 0x21fb9631cd0>]"
      ]
     },
     "execution_count": 9,
     "metadata": {},
     "output_type": "execute_result"
    },
    {
     "data": {
      "image/png": "[encoded data removed]",
      "text/plain": [
       "<Figure size 640x480 with 1 Axes>"
      ]
     },
     "metadata": {},
     "output_type": "display_data"
    }
   ],
   "source": [
    "# create linear regression model\n",
    "from sklearn import linear_model\n",
    "regr = linear_model.LinearRegression()\n",
    "regr.fit(train_x, train_y)\n",
    "\n",
    "# check the coefficients\n",
    "print ('Coefficients: ', regr.coef_)\n",
    "print ('Intercept: ',regr.intercept_)\n",
    "\n",
    "# show training data in blue\n",
    "plt.scatter(train_x, train_y,  color='blue')\n",
    "\n",
    "# plot the fit line over the training data:\n",
    "plt.plot(train_x, regr.coef_[0][0]*train_x + regr.intercept_[0], '-r')"
   ]
  },
  {
   "cell_type": "code",
   "execution_count": 10,
   "metadata": {},
   "outputs": [],
   "source": [
    "# test data\n",
    "test_x = test[[\"year\"]]\n",
    "test_y = test[[\"population\"]]"
   ]
  },
  {
   "cell_type": "code",
   "execution_count": 11,
   "metadata": {},
   "outputs": [
    {
     "name": "stdout",
     "output_type": "stream",
     "text": [
      "[[7.76772398e+09]]\n",
      "   population\n",
      "2  7766582956\n"
     ]
    }
   ],
   "source": [
    "predictions = regr.predict(test_x)\n",
    "\n",
    "# predicted value\n",
    "print(predictions)\n",
    "\n",
    "# real value from test data\n",
    "print(test_y)"
   ]
  },
  {
   "cell_type": "code",
   "execution_count": 12,
   "metadata": {},
   "outputs": [
    {
     "data": {
      "image/png": "[encoded data removed]",
      "text/plain": [
       "<Figure size 640x480 with 1 Axes>"
      ]
     },
     "metadata": {},
     "output_type": "display_data"
    }
   ],
   "source": [
    "# show predictions in green\n",
    "plt.scatter(test_x, predictions,  color='green')\n",
    "\n",
    "plt.xlabel(\"Year\")\n",
    "plt.ylabel(\"Population\")\n",
    "\n",
    "plt.show()"
   ]
  },
  {
   "cell_type": "code",
   "execution_count": 13,
   "metadata": {},
   "outputs": [
    {
     "data": {
      "image/png": "[encoded data removed]",
      "text/plain": [
       "<Figure size 640x480 with 1 Axes>"
      ]
     },
     "metadata": {},
     "output_type": "display_data"
    }
   ],
   "source": [
    "# all in 1 graph:\n",
    "\n",
    "# training\n",
    "plt.subplot(2, 1, 1)\n",
    "train = plt.scatter(train_x, train_y,  color='blue')\n",
    "plt.ylabel('population')\n",
    "plt.xlabel('year')\n",
    "\n",
    "# fit line over training data\n",
    "plt.subplot(2, 1, 1)\n",
    "plt.plot(train_x, regr.coef_[0][0]*train_x + regr.intercept_[0], '-r')\n",
    "\n",
    "# prediction\n",
    "plt.subplot(2, 1, 1)\n",
    "test = plt.scatter(test_x, predictions,  color='green')\n",
    "\n",
    "plt.show()"
   ]
  },
  {
   "cell_type": "code",
   "execution_count": 14,
   "metadata": {},
   "outputs": [
    {
     "name": "stdout",
     "output_type": "stream",
     "text": [
      "Mean Absolute Error: 1141024.50\n"
     ]
    },
    {
     "name": "stderr",
     "output_type": "stream",
     "text": [
      "C:\\Users\\nilph\\anaconda3\\lib\\site-packages\\numpy\\core\\fromnumeric.py:3438: FutureWarning: In a future version, DataFrame.mean(axis=None) will return a scalar mean over the entire DataFrame. To retain the old behavior, use 'frame.mean(axis=0)' or just 'frame.mean()'\n",
      "  return mean(axis=axis, dtype=dtype, out=out, **kwargs)\n"
     ]
    }
   ],
   "source": [
    "# eror in training dataset is high, even though the result seems fitting into the line,  not sure why the error is that high,\n",
    "# probably more data is needed and \n",
    "# testing should be done on a new dataset and not just the testing part of training dataset.\n",
    "print(\"Mean Absolute Error: %.2f\" % np.mean(np.absolute(predictions - test_y)))"
   ]
  },
  {
   "cell_type": "code",
   "execution_count": 15,
   "metadata": {},
   "outputs": [
    {
     "data": {
      "text/plain": [
       "8023328520"
      ]
     },
     "execution_count": 15,
     "metadata": {},
     "output_type": "execute_result"
    }
   ],
   "source": [
    "# I will produce a new dataset for the future years by calling get_population function\n",
    "# 2023 pop\n",
    "years = 5\n",
    "get_population(growth_rate, pop_in_2018, years)"
   ]
  },
  {
   "cell_type": "code",
   "execution_count": 16,
   "metadata": {},
   "outputs": [
    {
     "data": {
      "text/plain": [
       "8110782801"
      ]
     },
     "execution_count": 16,
     "metadata": {},
     "output_type": "execute_result"
    }
   ],
   "source": [
    "# 2024 pop\n",
    "years = 6\n",
    "get_population(growth_rate, pop_in_2018, years)"
   ]
  },
  {
   "cell_type": "code",
   "execution_count": 17,
   "metadata": {},
   "outputs": [
    {
     "data": {
      "text/plain": [
       "8199190333"
      ]
     },
     "execution_count": 17,
     "metadata": {},
     "output_type": "execute_result"
    }
   ],
   "source": [
    "# 2025 pop\n",
    "years = 7\n",
    "get_population(growth_rate, pop_in_2018, years)"
   ]
  },
  {
   "cell_type": "code",
   "execution_count": 18,
   "metadata": {},
   "outputs": [
    {
     "data": {
      "text/html": [
       "<div>\n",
       "<style scoped>\n",
       "    .dataframe tbody tr th:only-of-type {\n",
       "        vertical-align: middle;\n",
       "    }\n",
       "\n",
       "    .dataframe tbody tr th {\n",
       "        vertical-align: top;\n",
       "    }\n",
       "\n",
       "    .dataframe thead th {\n",
       "        text-align: right;\n",
       "    }\n",
       "</style>\n",
       "<table border=\"1\" class=\"dataframe\">\n",
       "  <thead>\n",
       "    <tr style=\"text-align: right;\">\n",
       "      <th></th>\n",
       "      <th>year</th>\n",
       "      <th>population</th>\n",
       "    </tr>\n",
       "  </thead>\n",
       "  <tbody>\n",
       "    <tr>\n",
       "      <th>0</th>\n",
       "      <td>2023</td>\n",
       "      <td>8023328520</td>\n",
       "    </tr>\n",
       "    <tr>\n",
       "      <th>1</th>\n",
       "      <td>2024</td>\n",
       "      <td>8110782801</td>\n",
       "    </tr>\n",
       "    <tr>\n",
       "      <th>2</th>\n",
       "      <td>2025</td>\n",
       "      <td>8199190333</td>\n",
       "    </tr>\n",
       "  </tbody>\n",
       "</table>\n",
       "</div>"
      ],
      "text/plain": [
       "   year  population\n",
       "0  2023  8023328520\n",
       "1  2024  8110782801\n",
       "2  2025  8199190333"
      ]
     },
     "execution_count": 18,
     "metadata": {},
     "output_type": "execute_result"
    }
   ],
   "source": [
    "# create a new df for future years\n",
    "new_pop=[8023328520, 8110782801, 8199190333]\n",
    "new_year=[2023, 2024, 2025]\n",
    "new_zipped = list(zip(new_year, new_pop))\n",
    "\n",
    "# make a dataframe fom lists\n",
    "new_df = pd.DataFrame(new_zipped, columns=['year','population'])\n",
    "new_df"
   ]
  },
  {
   "cell_type": "code",
   "execution_count": 19,
   "metadata": {},
   "outputs": [],
   "source": [
    "# create test data from the new dataset\n",
    "x_test = new_df[[\"year\"]]\n",
    "y_test = new_df[[\"population\"]]"
   ]
  },
  {
   "cell_type": "code",
   "execution_count": 20,
   "metadata": {},
   "outputs": [
    {
     "name": "stdout",
     "output_type": "stream",
     "text": [
      "[[8.02033392e+09]\n",
      " [8.10453723e+09]\n",
      " [8.18874055e+09]]\n",
      "   population\n",
      "0  8023328520\n",
      "1  8110782801\n",
      "2  8199190333\n"
     ]
    }
   ],
   "source": [
    "# prediction on unseen data\n",
    "predictions = regr.predict(x_test)\n",
    "\n",
    "# predicted value\n",
    "print(predictions)\n",
    "\n",
    "# real values from new dataset\n",
    "print(y_test)"
   ]
  },
  {
   "cell_type": "code",
   "execution_count": 21,
   "metadata": {},
   "outputs": [
    {
     "data": {
      "image/png": "[encoded data removed]",
      "text/plain": [
       "<Figure size 640x480 with 1 Axes>"
      ]
     },
     "metadata": {},
     "output_type": "display_data"
    }
   ],
   "source": [
    "# training on training data and prediction on unseen data in 1 graph:\n",
    "\n",
    "# training\n",
    "plt.subplot(2, 1, 1)\n",
    "train = plt.scatter(train_x, train_y,  color='blue')\n",
    "plt.ylabel('population')\n",
    "plt.xlabel('year')\n",
    "\n",
    "# fit line over training data\n",
    "plt.subplot(2, 1, 1)\n",
    "plt.plot(train_x, regr.coef_[0][0]*train_x + regr.intercept_[0], '-r')\n",
    "\n",
    "# prediction\n",
    "plt.subplot(2, 1, 1)\n",
    "test = plt.scatter(x_test, predictions,  color='green')\n",
    "\n",
    "plt.show()"
   ]
  },
  {
   "cell_type": "code",
   "execution_count": 22,
   "metadata": {},
   "outputs": [
    {
     "name": "stdout",
     "output_type": "stream",
     "text": [
      "Mean absolute error: 6563317.23\n",
      "Residual sum of squares (MSE): 52390915955265.66\n",
      "R2-score: 0.99\n"
     ]
    },
    {
     "name": "stderr",
     "output_type": "stream",
     "text": [
      "C:\\Users\\nilph\\anaconda3\\lib\\site-packages\\numpy\\core\\fromnumeric.py:3438: FutureWarning: In a future version, DataFrame.mean(axis=None) will return a scalar mean over the entire DataFrame. To retain the old behavior, use 'frame.mean(axis=0)' or just 'frame.mean()'\n",
      "  return mean(axis=axis, dtype=dtype, out=out, **kwargs)\n"
     ]
    }
   ],
   "source": [
    "from sklearn.metrics import r2_score\n",
    "# eror in unseen testing dataset is still high, still not sure why, because the predicted green dots seem to be \n",
    "# in the right place, perhaps more data is needed?\n",
    "# these data science libraries are supposed to be used with large datasets.\n",
    "print(\"Mean absolute error: %.2f\" % np.mean(np.absolute(predictions - y_test)))\n",
    "print(\"Residual sum of squares (MSE): %.2f\" % np.mean((predictions - y_test) ** 2))\n",
    "print(\"R2-score: %.2f\" % r2_score(y_test , predictions) )"
   ]
  }
 ],
 "metadata": {
  "kernelspec": {
   "display_name": "Python 3 (ipykernel)",
   "language": "python",
   "name": "python3"
  },
  "language_info": {
   "codemirror_mode": {
    "name": "ipython",
    "version": 3
   },
   "file_extension": ".py",
   "mimetype": "text/x-python",
   "name": "python",
   "nbconvert_exporter": "python",
   "pygments_lexer": "ipython3",
   "version": "3.9.13"
  }
 },
 "nbformat": 4,
 "nbformat_minor": 4
}
